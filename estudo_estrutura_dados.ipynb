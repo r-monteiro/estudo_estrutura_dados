{
  "nbformat": 4,
  "nbformat_minor": 0,
  "metadata": {
    "colab": {
      "provenance": []
    },
    "kernelspec": {
      "name": "python3",
      "display_name": "Python 3"
    },
    "language_info": {
      "name": "python"
    }
  },
  "cells": [
    {
      "cell_type": "code",
      "execution_count": null,
      "metadata": {
        "id": "snoOlEqNxw0k",
        "colab": {
          "base_uri": "https://localhost:8080/"
        },
        "outputId": "6003cea1-7bf2-4fb6-cead-0175e3153550"
      },
      "outputs": [
        {
          "output_type": "stream",
          "name": "stdout",
          "text": [
            "Informe o primeiro valor: 7\n",
            "Informe o segundo valor: 7\n",
            "\n",
            "O Máximo Divisor Comum de 7 e 7 é 7\n"
          ]
        }
      ],
      "source": [
        "# 1) Escreva uma função, que dados dois números inteiros positivos, calcule e retorne o Máximo Divisor Comum (MDC) entre os dois.\n",
        "\n",
        "num1 = int(input(\"Informe o primeiro valor: \"))\n",
        "num2 = int(input(\"Informe o segundo valor: \"))\n",
        "\n",
        "def mdc(a, b):\n",
        "  while b != 0:\n",
        "    resto = a % b\n",
        "    a = b\n",
        "    b = resto\n",
        "\n",
        "  return a\n",
        "\n",
        "print(f\"\\nO Máximo Divisor Comum de {num1} e {num2} é {mdc(num1, num2)}\")"
      ]
    },
    {
      "cell_type": "code",
      "source": [
        "# 2) Escreva uma função, que dados dois números inteiros positivos, calcule e retorne o Mínimo Múltiplo Comum (MMC) entre os dois.\n",
        "\n",
        "def calc_mdc(a, b):\n",
        "    while b:\n",
        "        a, b = b, a % b\n",
        "    return a\n",
        "\n",
        "def cal_mmc(a, b):\n",
        "    return abs(a * b) // calc_mdc(a, b)\n",
        "\n",
        "num1 = int(input(\"Informe o primeiro valor: \"))\n",
        "num2 = int(input(\"Informe o segundo valor: \"))\n",
        "\n",
        "mmc = calc_mmc(num1, num2)\n",
        "print(f\"\\nO Mínimo Múltiplo Comum de {num1} e {num2} é {mmc}\")"
      ],
      "metadata": {
        "id": "_2g4S181x9tj",
        "colab": {
          "base_uri": "https://localhost:8080/"
        },
        "outputId": "bbe7706a-6a3a-40de-c016-f96a9937dd6b"
      },
      "execution_count": null,
      "outputs": [
        {
          "output_type": "stream",
          "name": "stdout",
          "text": [
            "Informe o primeiro valor: 4\n",
            "Informe o segundo valor: 6\n",
            "\n",
            "O Mínimo Múltiplo Comum de 4 e 6 é 12\n"
          ]
        }
      ]
    },
    {
      "cell_type": "code",
      "source": [
        "# 3) Escreva uma função que, dada uma lista de dois ou mais números inteiros positivos, calcule e retorne o Máximo Divisor Comum (MDC) entre eles.\n",
        "\n",
        "def mdc(a, b):\n",
        "    while b != 0:\n",
        "        resto = a % b\n",
        "        a = b\n",
        "        b = resto\n",
        "    return a\n",
        "\n",
        "def mdc_lista(numeros):\n",
        "    if len(numeros) < 2:\n",
        "        raise ValueError(\"A lista deve conter pelo menos dois números.\")\n",
        "\n",
        "    mdc_atual = numeros[0]\n",
        "    for i in range(1, len(numeros)):\n",
        "        mdc_atual = mdc(mdc_atual, numeros[i])\n",
        "\n",
        "    return mdc_atual\n",
        "\n",
        "numeros = []\n",
        "continuar = True\n",
        "\n",
        "while continuar:\n",
        "    numero = int(input(\"Digite um valor ou digite 0 para parar: \"))\n",
        "    if numero == 0:\n",
        "        continuar = False\n",
        "    else:\n",
        "        numeros.append(numero)\n",
        "\n",
        "print(f\"Os números informados são: {numeros}\")\n",
        "print(f\"O Máximo Divisor Comum dos números informados é: {mdc_lista(numeros)}\")\n"
      ],
      "metadata": {
        "id": "mUhNrNVRyAXA",
        "colab": {
          "base_uri": "https://localhost:8080/"
        },
        "outputId": "3127f420-5643-41c6-c37a-fd8c0c02fd35"
      },
      "execution_count": null,
      "outputs": [
        {
          "output_type": "stream",
          "name": "stdout",
          "text": [
            "Digite um valor ou digite 0 para parar: 2\n",
            "Digite um valor ou digite 0 para parar: 4\n",
            "Digite um valor ou digite 0 para parar: 6\n",
            "Digite um valor ou digite 0 para parar: 8\n",
            "Digite um valor ou digite 0 para parar: 0\n",
            "Os números informados são: [2, 4, 6, 8]\n",
            "O Máximo Divisor Comum dos números informados é: 2\n"
          ]
        }
      ]
    },
    {
      "cell_type": "code",
      "source": [
        "# 4) Escreva uma função que, dada uma lista de dois ou mais números inteiros positivos, calcule e retorne o Mínimo Múltiplo Comum (MMC) entre eles.\n",
        "\n",
        "def mmc(a, b):\n",
        "    return abs(a * b) // mdc(a, b)\n",
        "\n",
        "def mmc_lista(numeros):\n",
        "    if len(numeros) < 2:\n",
        "        raise ValueError(\"A lista deve conter pelo menos dois números.\")\n",
        "\n",
        "    mmc_atual = numeros[0]\n",
        "    for i in range(1, len(numeros)):\n",
        "        mmc_atual = mmc(mmc_atual, numeros[i])\n",
        "\n",
        "    return mmc_atual\n",
        "\n",
        "numeros = []\n",
        "continuar = True\n",
        "\n",
        "while continuar:\n",
        "    numero = int(input(\"Informe um valor ou digite 0 para parar: \"))\n",
        "    if numero == 0:\n",
        "        continuar = False\n",
        "    else:\n",
        "        numeros.append(numero)\n",
        "\n",
        "print(f\"Os números informados são: {numeros}\")\n",
        "print(f\"O Mínimo Múltiplo Comum dos números informados é: {mmc_lista(numeros)}\")\n"
      ],
      "metadata": {
        "id": "mtLJl9WSyLgZ",
        "colab": {
          "base_uri": "https://localhost:8080/"
        },
        "outputId": "3c568356-a5d3-432a-d7b5-a8d5d3d28068"
      },
      "execution_count": null,
      "outputs": [
        {
          "output_type": "stream",
          "name": "stdout",
          "text": [
            "Informe um valor ou digite 0 para parar: 2\n",
            "Informe um valor ou digite 0 para parar: 4\n",
            "Informe um valor ou digite 0 para parar: 6\n",
            "Informe um valor ou digite 0 para parar: 8\n",
            "Informe um valor ou digite 0 para parar: 0\n",
            "Os números informados são: [2, 4, 6, 8]\n",
            "O Mínimo Múltiplo Comum dos números informados é: 24\n"
          ]
        }
      ]
    },
    {
      "cell_type": "code",
      "source": [
        "# 5) Escreva uma função que dado um número inteiro (n > 1), retorne uma lista com os fatores primos de n.\n",
        "\n",
        "def primo(n):\n",
        "    fatores = []\n",
        "    divisor = 2\n",
        "    while n > 1:\n",
        "        while n % divisor == 0:\n",
        "            fatores.append(divisor)\n",
        "            n //= divisor\n",
        "        divisor += 1\n",
        "    return fatores\n",
        "\n",
        "num = int(input(\"Informe um número inteiro maior que 1: \"))\n",
        "if num <= 1:\n",
        "  print(\"O número deve ser maior que 1.\")\n",
        "else:\n",
        "  print(f\"Os fatores primos de {num} são: {primo(num)}\")"
      ],
      "metadata": {
        "colab": {
          "base_uri": "https://localhost:8080/"
        },
        "id": "19kQJqNxRdFa",
        "outputId": "daeebf65-e5cf-43dd-b285-425753da4c3b"
      },
      "execution_count": null,
      "outputs": [
        {
          "output_type": "stream",
          "name": "stdout",
          "text": [
            "Informe um número inteiro maior que 1: 10\n",
            "Os fatores primos de 10 são: [2, 5]\n"
          ]
        }
      ]
    },
    {
      "cell_type": "code",
      "source": [
        "# 6) Implemente uma função para calcular o número de combinações possíveis de m elementos em grupos de n elementos ( n < ou igual a m), dado pela fórmula de combinação: m!/(m-n)!n!\n",
        "\n",
        "import math\n",
        "\n",
        "def calc_combinacoes(m, n):\n",
        "    if n > m:\n",
        "        raise ValueError(\"N não pode ser maior que M.\")\n",
        "    combinacoes = math.factorial(m) / (math.factorial(m - n) * math.factorial(n))\n",
        "    return combinacoes\n",
        "\n",
        "m = int(input(\"Informe o número total de elementos (M): \"))\n",
        "n = int(input(f\"Informe o número de elementos em cada grupo (n <= {m}): \"))\n",
        "\n",
        "print(f\"O número de combinações possíveis é: {int(calc_combinacoes(m, n))}\")\n"
      ],
      "metadata": {
        "colab": {
          "base_uri": "https://localhost:8080/"
        },
        "id": "SaGN9wHpRikC",
        "outputId": "2c5ca5d3-e251-47e7-94c4-b195f82f95f6"
      },
      "execution_count": null,
      "outputs": [
        {
          "output_type": "stream",
          "name": "stdout",
          "text": [
            "Informe o número total de elementos (M): 10\n",
            "Informe o número de elementos em cada grupo (n <= 10): 3\n",
            "O número de combinações possíveis é: 120\n"
          ]
        }
      ]
    },
    {
      "cell_type": "code",
      "source": [
        "# 7) Implemente uma função que, dada uma lista, retorne uma outra lista, com os elementos da lista original, sem repetições.\n",
        "\n",
        "def rep(lista):\n",
        "    nova_lista = list(set(lista))\n",
        "    nova_lista = sorted(nova_lista)\n",
        "    return nova_lista\n",
        "\n",
        "total_elementos = int(input(\"Digite o número de elementos na lista: \"))\n",
        "lista_original = []\n",
        "\n",
        "for i in range(total_elementos):\n",
        "    elemento = input(f\"Digite o {i+1}º elemento da lista: \")\n",
        "    lista_original.append(elemento)\n",
        "\n",
        "nova_lista = rep(lista_original)\n",
        "print(f\"Lista original: {lista_original}\")\n",
        "print(f\"Lista sem repetições: {nova_lista}\")"
      ],
      "metadata": {
        "colab": {
          "base_uri": "https://localhost:8080/"
        },
        "id": "DONtukLZRthq",
        "outputId": "a12140c0-26a0-4a10-b097-af152b0b0207"
      },
      "execution_count": null,
      "outputs": [
        {
          "output_type": "stream",
          "name": "stdout",
          "text": [
            "Digite o número de elementos na lista: 8\n",
            "Digite o 1º elemento da lista: 1\n",
            "Digite o 2º elemento da lista: 1\n",
            "Digite o 3º elemento da lista: 2\n",
            "Digite o 4º elemento da lista: 3\n",
            "Digite o 5º elemento da lista: 4\n",
            "Digite o 6º elemento da lista: 4\n",
            "Digite o 7º elemento da lista: 5\n",
            "Digite o 8º elemento da lista: 6\n",
            "Lista original: ['1', '1', '2', '3', '4', '4', '5', '6']\n",
            "Lista sem repetições: ['1', '2', '3', '4', '5', '6']\n"
          ]
        }
      ]
    },
    {
      "cell_type": "code",
      "source": [
        "# 8) Implemente uma função que, dada uma lista, retorne a moda da lista, ou seja, uma lista com o(s) elemento(s) mais frequente(s) da lista original.\n",
        "\n",
        "def calc_moda(lista):\n",
        "    frequencias = {}\n",
        "    for i in lista:\n",
        "        if i in frequencias:\n",
        "            frequencias[i] += 1\n",
        "        else:\n",
        "            frequencias[i] = 1\n",
        "\n",
        "    moda = []\n",
        "    max_ocorrencias = max(frequencias.values())\n",
        "    for key, value in frequencias.items():\n",
        "        if value == max_ocorrencias:\n",
        "            moda.append(key)\n",
        "\n",
        "    return moda\n",
        "\n",
        "total_elementos = int(input(\"Digite o número de elementos na lista: \"))\n",
        "lista = []\n",
        "\n",
        "for i in range(total_elementos):\n",
        "    elemento = int(input(f\"Digite o {i+1}º elemento da lista: \"))\n",
        "    lista.append(elemento)\n",
        "\n",
        "moda = calc_moda(lista)\n",
        "print(f\"A moda da lista é: {moda}\")"
      ],
      "metadata": {
        "colab": {
          "base_uri": "https://localhost:8080/"
        },
        "id": "qjHdDk8URy2j",
        "outputId": "a6883bc0-5e84-4780-c186-37ef11e9c298"
      },
      "execution_count": null,
      "outputs": [
        {
          "output_type": "stream",
          "name": "stdout",
          "text": [
            "Digite o número de elementos na lista: 10\n",
            "Digite o 1º elemento da lista: 1\n",
            "Digite o 2º elemento da lista: 1\n",
            "Digite o 3º elemento da lista: 2\n",
            "Digite o 4º elemento da lista: 3\n",
            "Digite o 5º elemento da lista: 4\n",
            "Digite o 6º elemento da lista: 5\n",
            "Digite o 7º elemento da lista: 6\n",
            "Digite o 8º elemento da lista: 6\n",
            "Digite o 9º elemento da lista: 6\n",
            "Digite o 10º elemento da lista: 7\n",
            "A moda da lista é: [6]\n"
          ]
        }
      ]
    },
    {
      "cell_type": "code",
      "source": [
        "# 9) Implemente uma função que, dada duas listas representando dois conjuntos, retorne uma lista que represente a união dos dois conjuntos.\n",
        "\n",
        "def uniao_conjuntos(lista1, lista2):\n",
        "    conjunto1 = set(lista1)\n",
        "    conjunto2 = set(lista2)\n",
        "    uniao = list(conjunto1.union(conjunto2))\n",
        "    uniao = sorted(uniao)\n",
        "    return uniao\n",
        "\n",
        "conjunto1 = list(map(int, input(\"Digite os elementos do primeiro conjunto separados por espaço: \").split()))\n",
        "conjunto2 = list(map(int, input(\"Digite os elementos do segundo conjunto separados por espaço: \").split()))\n",
        "\n",
        "uniao = uniao_conjuntos(conjunto1, conjunto2)\n",
        "print(f\"A união dos conjuntos é: {uniao}\")"
      ],
      "metadata": {
        "colab": {
          "base_uri": "https://localhost:8080/"
        },
        "id": "4ZYHXNz3fiHx",
        "outputId": "d091a0fe-9c10-4dee-94ed-2c250136ea72"
      },
      "execution_count": null,
      "outputs": [
        {
          "output_type": "stream",
          "name": "stdout",
          "text": [
            "Digite os elementos do primeiro conjunto separados por espaço: 1 2 3 4 5\n",
            "Digite os elementos do segundo conjunto separados por espaço: 3 4 5 6 7\n",
            "A união dos conjuntos é: [1, 2, 3, 4, 5, 6, 7]\n"
          ]
        }
      ]
    },
    {
      "cell_type": "code",
      "source": [
        "# 10) Implemente uma função que, dada duas listas representando dois conjuntos, retorne uma lista que represente a intersecção dos dois conjuntos.\n",
        "# tentei utilizar o que foi ensinado na máteria de projeto integrador, plotando o diagrama de venn.\n",
        "# no diagrama, ele mostra a quantidade de valores por conjunto, e a quantidade na intersecção.\n",
        "\n",
        "import matplotlib.pyplot as plt\n",
        "from matplotlib_venn import venn2\n",
        "\n",
        "def intersecao_conjuntos(lista1, lista2):\n",
        "    conjunto1 = set(lista1)\n",
        "    conjunto2 = set(lista2)\n",
        "    intersecao = conjunto1.intersection(conjunto2)\n",
        "    return intersecao\n",
        "\n",
        "conjunto1 = list(map(int, input(\"Digite os elementos do primeiro conjunto separados por espaço: \").split()))\n",
        "conjunto2 = list(map(int, input(\"Digite os elementos do segundo conjunto separados por espaço: \").split()))\n",
        "\n",
        "intersecao = intersecao_conjuntos(conjunto1, conjunto2)\n",
        "print(f\"A interseção dos conjuntos é: {intersecao}\")\n",
        "\n",
        "# gráfico\n",
        "venn = venn2(subsets=(len(set(conjunto1)), len(set(conjunto2)), len(intersecao)), set_labels=('Conjunto 1', 'Conjunto 2'))\n",
        "venn.get_patch_by_id('10').set_color('skyblue')\n",
        "venn.get_patch_by_id('01').set_color('skyblue')\n",
        "venn.get_patch_by_id('11').set_color('blue')\n",
        "\n",
        "plt.title('Diagrama de Venn para a Interseção dos Conjuntos')\n",
        "plt.show()"
      ],
      "metadata": {
        "colab": {
          "base_uri": "https://localhost:8080/",
          "height": 460
        },
        "id": "rUQGrF6Nba43",
        "outputId": "a29a352d-3a34-4d89-f6e7-031e63808d02"
      },
      "execution_count": null,
      "outputs": [
        {
          "output_type": "stream",
          "name": "stdout",
          "text": [
            "Digite os elementos do primeiro conjunto separados por espaço: 1 2 3 4 5\n",
            "Digite os elementos do segundo conjunto separados por espaço: 3 4 5 6 7\n",
            "A interseção dos conjuntos é: {3, 4, 5}\n"
          ]
        },
        {
          "output_type": "display_data",
          "data": {
            "text/plain": [
              "<Figure size 640x480 with 1 Axes>"
            ],
            "image/png": "[encoded data removed]"
          },
          "metadata": {}
        }
      ]
    },
    {
      "cell_type": "code",
      "source": [
        "# 11) Implemente uma função que, dada duas listas representando dois conjuntos, retorne uma lista que represente a diferença dos dois conjuntos.\n",
        "\n",
        "def diferenca_conjuntos(lista1, lista2):\n",
        "    conjunto1 = set(lista1)\n",
        "    conjunto2 = set(lista2)\n",
        "    diferenca = conjunto1.difference(conjunto2)\n",
        "    return diferenca\n",
        "\n",
        "conjunto1 = list(map(int, input(\"Digite os elementos do primeiro conjunto separados por espaço: \").split()))\n",
        "conjunto2 = list(map(int, input(\"Digite os elementos do segundo conjunto separados por espaço: \").split()))\n",
        "\n",
        "diferenca = diferenca_conjuntos(conjunto1, conjunto2)\n",
        "print(f\"A diferença dos conjuntos é: {diferenca}\")"
      ],
      "metadata": {
        "colab": {
          "base_uri": "https://localhost:8080/"
        },
        "id": "IErotKjnbk2n",
        "outputId": "f5e8b510-24a5-444c-f81e-db3469a09acf"
      },
      "execution_count": null,
      "outputs": [
        {
          "output_type": "stream",
          "name": "stdout",
          "text": [
            "Digite os elementos do primeiro conjunto separados por espaço: 1 2 3 4 5\n",
            "Digite os elementos do segundo conjunto separados por espaço: 3 4 5 6 7\n",
            "A diferença dos conjuntos é: {1, 2}\n"
          ]
        }
      ]
    },
    {
      "cell_type": "code",
      "source": [
        "# 12) Implemente uma função que, dada duas listas representando dois conjuntos, verifique se o primeiro é um subconjunto do segundo.\n",
        "\n",
        "def e_subconjunto(lista1, lista2):\n",
        "    conjunto1 = set(lista1)\n",
        "    conjunto2 = set(lista2)\n",
        "    return conjunto1.issubset(conjunto2)\n",
        "\n",
        "conjunto1 = list(map(int, input(\"Digite os elementos do primeiro conjunto separados por espaço: \").split()))\n",
        "conjunto2 = list(map(int, input(\"Digite os elementos do segundo conjunto separados por espaço: \").split()))\n",
        "\n",
        "if e_subconjunto(conjunto1, conjunto2):\n",
        "    print(\"O primeiro conjunto é um subconjunto do segundo.\")\n",
        "else:\n",
        "    print(\"O primeiro conjunto não é um subconjunto do segundo.\")"
      ],
      "metadata": {
        "colab": {
          "base_uri": "https://localhost:8080/"
        },
        "id": "kTdTglpRbm-n",
        "outputId": "14cf011c-4251-458a-fea9-43af0eef0b9f"
      },
      "execution_count": null,
      "outputs": [
        {
          "output_type": "stream",
          "name": "stdout",
          "text": [
            "Digite os elementos do primeiro conjunto separados por espaço: 3 4 5\n",
            "Digite os elementos do segundo conjunto separados por espaço: 1 2 3 4 5 6 7 8 9 10\n",
            "O primeiro conjunto é um subconjunto do segundo.\n"
          ]
        }
      ]
    }
  ]
}